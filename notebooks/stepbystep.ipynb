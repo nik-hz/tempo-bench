{
 "cells": [
  {
   "cell_type": "code",
   "execution_count": null,
   "metadata": {},
   "outputs": [],
   "source": [
    "from IPython.display import display\n",
    "import spot\n",
    "\n",
    "import sys\n",
    "sys.path.append('../')\n",
    "import auto\n",
    "import parse\n",
    "spot.setup()\n",
    "\n",
    "'''\n",
    "This notebook allows you to step through our cause-synthesis algorithm (Section 5.2 in the paper \"Synthesis of Temporal Causality\").\n",
    "You need to specify the inputs that you would provide to the commandline in the following.\n",
    "'''\n",
    "limit_assumption = False\n",
    "contingencies = False\n",
    "system = spot.automaton('../examples/simple1/system.hoa')\n",
    "effect_automaton_neg = parse.effectfile('../examples/simple1/effect.txt')\n",
    "trace = parse.tracefile('../examples/simple1/trace.txt')\n",
    "print(trace)\n",
    "system.show()"
   ]
  },
  {
   "cell_type": "code",
   "execution_count": null,
   "metadata": {},
   "outputs": [],
   "source": [
    "'''\n",
    "As a first step, we construct the metric <=_subset and its associated automaton based on the inputs of the provided system.\n",
    "'''\n",
    "\n",
    "outputs = spot.get_synthesis_output_aps(system)\n",
    "inputs = set(str(a) for a in system.ap()).difference(set(str(p) for p in outputs))\n",
    "\n",
    "# Construct distance metric.\n",
    "distance_metric = \"G (True\"\n",
    "for i in inputs:\n",
    "    distance_metric += \" & (!(\" + i + \"_actual <-> \" + i + \"_close) -> !(\" + i + \"_actual <-> \" + i + \"_far))\"\n",
    "    if limit_assumption:\n",
    "        distance_metric = \"((G F !(\" + i + \"_actual <-> \" + i + \"_close)) -> (G (\" + i + \"_close <-> \" + i + \"_far))) & \" + distance_metric\n",
    "distance_metric += \")\"\n",
    "distance_automaton = spot.translate(spot.formula(distance_metric))\n",
    "print(distance_metric)\n",
    "distance_automaton.show()\n"
   ]
  },
  {
   "cell_type": "code",
   "execution_count": null,
   "metadata": {},
   "outputs": [],
   "source": [
    "''' If desired, a contingency automaton can be computed. Otherwise we just show the system here.'''\n",
    "if contingencies:\n",
    "        system = auto.construct_counterfactual_automaton(system,trace)\n",
    "system.show()"
   ]
  },
  {
   "cell_type": "code",
   "execution_count": null,
   "metadata": {},
   "outputs": [],
   "source": [
    "'''Next up, we complement the effect automaton.'''\n",
    "\n",
    "effect_automaton_neg = auto.add_suffix(spot.postprocess(effect_automaton_neg,'buchi','state-based','small','buchi'),\"_close\")\n",
    "\n",
    "effect_automaton_neg.show()"
   ]
  },
  {
   "cell_type": "code",
   "execution_count": null,
   "metadata": {},
   "outputs": [],
   "source": [
    "'''Next, we intersect effect and distance metric.'''\n",
    "\n",
    "intersection = spot.product(distance_automaton,effect_automaton_neg)\n",
    "\n",
    "intersection.show()"
   ]
  },
  {
   "cell_type": "code",
   "execution_count": null,
   "metadata": {},
   "outputs": [],
   "source": [
    "''' We now construct an NBA for the system product.'''\n",
    "\n",
    "inner_product = spot.product(auto.add_suffix(system,\"_close\"),intersection)\n",
    "\n",
    "inner_product.show()"
   ]
  },
  {
   "cell_type": "code",
   "execution_count": null,
   "metadata": {},
   "outputs": [],
   "source": [
    "''' Project APs suffixed with _close away existentially.'''\n",
    "\n",
    "after_projection = auto.project_existentially(inner_product,[str(a) + \"_close\" for a in system.ap()])\n",
    "\n",
    "after_projection.show()"
   ]
  },
  {
   "cell_type": "code",
   "execution_count": null,
   "metadata": {},
   "outputs": [],
   "source": [
    "''' Final complementation, intersection with actual trace and AP manipulation to obtain the desired cause automaton.'''\n",
    "\n",
    "# Central complementation.\n",
    "intermediate_result = spot.complement(after_projection)\n",
    "\n",
    "# Intersect with actual trace and project away APs\n",
    "actual_trace = auto.add_suffix(trace.as_automaton(),\"_actual\")\n",
    "actual_result = spot.product(intermediate_result,actual_trace)\n",
    "actual_projection = auto.project_existentially(actual_result,[str(a) + \"_actual\" for a in system.ap()])\n",
    "\n",
    "intermediate_result = spot.postprocess(actual_projection,'buchi','state-based','small','high')\n",
    "\n",
    "# Map APs back to inputs by removing the dummy suffix.\n",
    "result = auto.remove_suffix(intermediate_result,\"_far\")\n",
    "\n",
    "result.show()"
   ]
  }
 ],
 "metadata": {
  "kernelspec": {
   "display_name": "Python 3",
   "language": "python",
   "name": "python3"
  },
  "language_info": {
   "codemirror_mode": {
    "name": "ipython",
    "version": 3
   },
   "file_extension": ".py",
   "mimetype": "text/x-python",
   "name": "python",
   "nbconvert_exporter": "python",
   "pygments_lexer": "ipython3",
   "version": "3.9.6"
  }
 },
 "nbformat": 4,
 "nbformat_minor": 2
}
